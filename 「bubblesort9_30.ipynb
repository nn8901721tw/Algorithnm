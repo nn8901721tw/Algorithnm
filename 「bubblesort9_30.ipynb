{
  "nbformat": 4,
  "nbformat_minor": 0,
  "metadata": {
    "colab": {
      "name": "「bubblesort9/30.ipynb",
      "provenance": [],
      "include_colab_link": true
    },
    "kernelspec": {
      "name": "python3",
      "display_name": "Python 3"
    }
  },
  "cells": [
    {
      "cell_type": "markdown",
      "metadata": {
        "id": "view-in-github",
        "colab_type": "text"
      },
      "source": [
        "<a href=\"https://colab.research.google.com/github/nn8901721tw/Algorithnm/blob/master/%E3%80%8Cbubblesort9_30.ipynb\" target=\"_parent\"><img src=\"https://colab.research.google.com/assets/colab-badge.svg\" alt=\"Open In Colab\"/></a>"
      ]
    },
    {
      "cell_type": "markdown",
      "metadata": {
        "id": "32sgU0StMiof"
      },
      "source": [
        "Bubble sort (氣泡排序)"
      ]
    },
    {
      "cell_type": "code",
      "metadata": {
        "id": "esB_4fSeMLYJ",
        "outputId": "223658e4-d383-4092-8677-35a47c6300cb",
        "colab": {
          "base_uri": "https://localhost:8080/",
          "height": 153
        }
      },
      "source": [
        "def Bubble_Sort(datas):\n",
        "    for i in range(1, len(datas)): # \n",
        "        for j in range(len(datas)-i):   # \n",
        "            if datas[j] > datas[j+1]:   # \n",
        "                datas[j], datas[j+1] = datas[j+1], datas[j]\n",
        "    return datas\n",
        "\n",
        "\n",
        "if __name__ == '__main__':\n",
        "    import random\n",
        "    a = list()\n",
        "    \n",
        "    print(\"總共六個數字\")\n",
        "    for k in range(1,7):    #利用迴圈一次次輸入，再用append將數字存到list，將輸入值轉成數值，接著排序。\n",
        "      \n",
        "      b= input(\"請輸入第%d數字\"%(k))\n",
        "      a.append(int(b))\n",
        "    \n",
        "    a = Bubble_Sort(a)  \n",
        "    print(a)"
      ],
      "execution_count": null,
      "outputs": [
        {
          "output_type": "stream",
          "text": [
            "總共六個數字\n",
            "請輸入第1數字1\n",
            "請輸入第2數字85\n",
            "請輸入第3數字13\n",
            "請輸入第4數字6\n",
            "請輸入第5數字5\n",
            "請輸入第6數字3\n",
            "[1, 3, 5, 6, 13, 85]\n"
          ],
          "name": "stdout"
        }
      ]
    },
    {
      "cell_type": "markdown",
      "metadata": {
        "id": "MOQ_aZKnM-wL"
      },
      "source": [
        "請加入註解，並將程式修改為加入六個數做氣泡排序\n"
      ]
    }
  ]
}