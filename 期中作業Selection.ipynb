{
  "nbformat": 4,
  "nbformat_minor": 0,
  "metadata": {
    "colab": {
      "name": "期中作業Selection.ipynb",
      "provenance": [],
      "collapsed_sections": [],
      "authorship_tag": "ABX9TyMWPEfLaeKKMijhX3C32cM+",
      "include_colab_link": true
    },
    "kernelspec": {
      "name": "python3",
      "display_name": "Python 3"
    }
  },
  "cells": [
    {
      "cell_type": "markdown",
      "metadata": {
        "id": "view-in-github",
        "colab_type": "text"
      },
      "source": [
        "<a href=\"https://colab.research.google.com/github/nn8901721tw/Algorithnm/blob/master/%E6%9C%9F%E4%B8%AD%E4%BD%9C%E6%A5%ADSelection.ipynb\" target=\"_parent\"><img src=\"https://colab.research.google.com/assets/colab-badge.svg\" alt=\"Open In Colab\"/></a>"
      ]
    },
    {
      "cell_type": "code",
      "metadata": {
        "colab": {
          "base_uri": "https://localhost:8080/"
        },
        "id": "wPKnVCNc6Pny",
        "outputId": "ce9ca7b4-4535-441d-8e7e-96730d4e61b1"
      },
      "source": [
        "def Selction_Sort(datas):\n",
        "    for i in range(len(datas)-1):\n",
        "        max = i # 第一次選從第一個數開始,第二次從第二個數開始\n",
        "        for j in range(i+1, len(datas)):    # 用記錄的max數與其他的比較\n",
        "            if datas[j] > datas[max]:     #第一個索引值跟接續它後面的比較，若後面的較大，索引值互換\n",
        "                max = j    \n",
        "\n",
        "        datas[i], datas[max] = datas[max], datas[i]   #大的值跟小的值互換(利用data[]) 接著繼續上層的迴圈\n",
        "\n",
        "        print(datas)\n",
        "        print('---'*10)\n",
        "    return datas\n",
        "\n",
        "\n",
        "if __name__ == '__main__':\n",
        "    import random\n",
        "    a=[]             #建立空串列\n",
        "    \n",
        "    for i in range(8):\n",
        "      b=random.randint(0,99)  #將隨機的數字加到串列後面，共8個\n",
        "      a.append(b)\n",
        "    print(a)\n",
        "    a = Selction_Sort(a)\n",
        "    print(a)"
      ],
      "execution_count": 5,
      "outputs": [
        {
          "output_type": "stream",
          "text": [
            "[18, 4, 48, 71, 65, 51, 55, 52]\n",
            "[71, 4, 48, 18, 65, 51, 55, 52]\n",
            "------------------------------\n",
            "[71, 65, 48, 18, 4, 51, 55, 52]\n",
            "------------------------------\n",
            "[71, 65, 55, 18, 4, 51, 48, 52]\n",
            "------------------------------\n",
            "[71, 65, 55, 52, 4, 51, 48, 18]\n",
            "------------------------------\n",
            "[71, 65, 55, 52, 51, 4, 48, 18]\n",
            "------------------------------\n",
            "[71, 65, 55, 52, 51, 48, 4, 18]\n",
            "------------------------------\n",
            "[71, 65, 55, 52, 51, 48, 18, 4]\n",
            "------------------------------\n",
            "[71, 65, 55, 52, 51, 48, 18, 4]\n"
          ],
          "name": "stdout"
        }
      ]
    }
  ]
}