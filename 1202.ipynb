{
  "nbformat": 4,
  "nbformat_minor": 0,
  "metadata": {
    "colab": {
      "name": "1202.ipynb",
      "provenance": [],
      "collapsed_sections": [],
      "authorship_tag": "ABX9TyNAdDm0Yj86zUk47hF+H3co",
      "include_colab_link": true
    },
    "kernelspec": {
      "name": "python3",
      "display_name": "Python 3"
    }
  },
  "cells": [
    {
      "cell_type": "markdown",
      "metadata": {
        "id": "view-in-github",
        "colab_type": "text"
      },
      "source": [
        "<a href=\"https://colab.research.google.com/github/nn8901721tw/Algorithnm/blob/master/1202.ipynb\" target=\"_parent\"><img src=\"https://colab.research.google.com/assets/colab-badge.svg\" alt=\"Open In Colab\"/></a>"
      ]
    },
    {
      "cell_type": "code",
      "metadata": {
        "colab": {
          "base_uri": "https://localhost:8080/"
        },
        "id": "gBKyiSRYJfGN",
        "outputId": "f32e20e2-096f-4300-9e34-f072b0c882fe"
      },
      "source": [
        "#背包貪婪法1\n",
        "t = [25,20,5,1]\n",
        "\n",
        "def change(t,n):\n",
        "  \n",
        "  m = [0 for _ in range(len(t))]\n",
        "  for i,money in enumerate(t):\n",
        "    m[i] = n // money\n",
        "    n = n % money\n",
        "    print(m,n)\n",
        "\n",
        "a=int(input(\"請輸入一個數字\"))\n",
        "\n",
        "change(t,a) "
      ],
      "execution_count": 28,
      "outputs": [
        {
          "output_type": "stream",
          "text": [
            "請輸入一個數字41\n",
            "[1, 0, 0, 0] 16\n",
            "[1, 0, 0, 0] 16\n",
            "[1, 0, 3, 0] 1\n",
            "[1, 0, 3, 1] 0\n"
          ],
          "name": "stdout"
        }
      ]
    },
    {
      "cell_type": "code",
      "metadata": {
        "colab": {
          "base_uri": "https://localhost:8080/"
        },
        "id": "B_tkp1itUE7o",
        "outputId": "ca8b84e8-3bbd-4c77-d263-edfd5153edaa"
      },
      "source": [
        "#背包DP法2\n",
        "def coin_change(coins,change,dp,coins_used):\n",
        "\tfor i in range(1,change+1):\n",
        "\t\tfor j in range(len(coins)):\n",
        "\t\t\tif coins[j]<=i:\n",
        "\t\t\t\tif dp[i-coins[j]]+1<dp[i]:\n",
        "\t\t\t\t\t#dp[i]=min(dp[i],dp[i-coins[j]]+1)\n",
        "\t\t\t\t\tdp[i]=dp[i-coins[j]]+1\n",
        "\t\t\t\t\tnew_coin=coins[j]\n",
        "\t\tcoins_used[i]=new_coin\n",
        " \n",
        "\tif dp[change]>change:\n",
        "\t\treturn -1\n",
        "\telse:\n",
        "\t\treturn dp[change]\n",
        "def used_coins(change,used_coins):\n",
        "\t\n",
        "\tre=[]\n",
        "\twhile change:\n",
        "\t\t#dp[i]=dp[i-coins[j]]+1    used_coins[change]=coins[j]\n",
        "\t\ttmp=used_coins[change]\n",
        "\t\tre.append(tmp)\n",
        "\t\tchange-=tmp\n",
        "\treturn re\n",
        " \n",
        "if __name__=='__main__':\n",
        "\t#初始化\n",
        "\tcoins=[1,2,5,7,10]\n",
        "\tchange=int(input(\"請輸入數字\"))\n",
        "\tdp=[change+1]*(change+1)\n",
        "\tdp[0]=0\n",
        "\tcoins_used=[0]*(change+1)\n",
        " \n",
        "\tre=coin_change(coins,change,dp,coins_used)\n",
        "\tre_coins=used_coins(change,coins_used)\n",
        "\tprint(\"找零{0}元需要{1}張錢幣,分别是{2}\".format(change,re,re_coins))\n"
      ],
      "execution_count": 30,
      "outputs": [
        {
          "output_type": "stream",
          "text": [
            "請輸入數字18\n",
            "找零18元需要3張錢幣,分别是[1, 7, 10]\n"
          ],
          "name": "stdout"
        }
      ]
    },
    {
      "cell_type": "code",
      "metadata": {
        "colab": {
          "base_uri": "https://localhost:8080/"
        },
        "id": "9lZOMzpYSqaS",
        "outputId": "bf05a0c0-5a0e-4bed-c09a-4f6b19771408"
      },
      "source": [
        "#背包貪婪法+sort 3\n",
        "t = [4,1,2,5,3]     #這是人工sort出來的\n",
        "\n",
        "def change(t,n):\n",
        "  \n",
        "  m = [0 for _ in range(len(t))]\n",
        "  for i,money in enumerate(t):\n",
        "    m[i] = 1\n",
        "    if(n-money)<0:\n",
        "      n=n\n",
        "      m[i] = 0\n",
        "    else:\n",
        "      n=n-money\n",
        "    print(m,n)  \n",
        "\n",
        "\n",
        "change(t,10) "
      ],
      "execution_count": 36,
      "outputs": [
        {
          "output_type": "stream",
          "text": [
            "[1, 0, 0, 0, 0] 6\n",
            "[1, 1, 0, 0, 0] 5\n",
            "[1, 1, 1, 0, 0] 3\n",
            "[1, 1, 1, 0, 0] 3\n",
            "[1, 1, 1, 0, 1] 0\n"
          ],
          "name": "stdout"
        }
      ]
    },
    {
      "cell_type": "code",
      "metadata": {
        "colab": {
          "base_uri": "https://localhost:8080/"
        },
        "id": "acJT6_-miIaG",
        "outputId": "d486eb15-9c1c-4cec-a077-873ac17be77a"
      },
      "source": [
        "#背包DP法4\n",
        "import numpy as np\n",
        "def pack():\n",
        "    C=10\n",
        "    num=5\n",
        "    v =   [5,1,4,3,2]\n",
        "    price=[17000,35000,60000,9000,20000] \n",
        "    sum=np.zeros((num+1,C+1)) \n",
        "    for jew in range(num+1): \n",
        "        for c in range(C+1): \n",
        "            if(jew==0):    \n",
        "                sum[jew][c]=0\n",
        "            else:\n",
        "                sum[jew][c]=sum[jew-1][c]\n",
        "            if(jew>0 and c>=v[jew-1]): \n",
        "                sum[jew][c]=max(sum[jew-1][c],sum[jew-1][c-v[jew-1]]+price[jew-1])\n",
        "    print(\"the max price:\",sum[num][C])\n",
        " \n",
        "    \n",
        "    pack=np.zeros((num))\n",
        "    volume = C\n",
        "    \n",
        "    for jew in range(num,-1,-1): \n",
        "        if(sum[jew][volume]>sum[jew-1][volume]):  \n",
        "            pack[jew-1]=1\n",
        "            volume=volume-v[jew-1]\n",
        " \n",
        "    print(pack)\n",
        "    # print(C)\n",
        "    # print(sum)\n",
        " \n",
        "if __name__==\"__main__\":\n",
        "    pack()\n"
      ],
      "execution_count": 39,
      "outputs": [
        {
          "output_type": "stream",
          "text": [
            "the max price: 124000.0\n",
            "[0. 1. 1. 1. 1.]\n"
          ],
          "name": "stdout"
        }
      ]
    }
  ]
}