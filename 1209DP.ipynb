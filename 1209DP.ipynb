{
  "nbformat": 4,
  "nbformat_minor": 0,
  "metadata": {
    "colab": {
      "name": "1209DP.ipynb",
      "provenance": [],
      "collapsed_sections": [],
      "authorship_tag": "ABX9TyNoll7cZ1pZpbTohgNr1QX4",
      "include_colab_link": true
    },
    "kernelspec": {
      "name": "python3",
      "display_name": "Python 3"
    }
  },
  "cells": [
    {
      "cell_type": "markdown",
      "metadata": {
        "id": "view-in-github",
        "colab_type": "text"
      },
      "source": [
        "<a href=\"https://colab.research.google.com/github/nn8901721tw/Algorithnm/blob/master/1209DP.ipynb\" target=\"_parent\"><img src=\"https://colab.research.google.com/assets/colab-badge.svg\" alt=\"Open In Colab\"/></a>"
      ]
    },
    {
      "cell_type": "code",
      "metadata": {
        "colab": {
          "base_uri": "https://localhost:8080/"
        },
        "id": "H5Ti7FwuZge_",
        "outputId": "568d52a6-4d41-4083-9653-1d4fa739e6a8"
      },
      "source": [
        "p=[0,1,5,8,9,10,17,17,20,24,30]    #可不切割 所以+0\r\n",
        "def CutRod(p,n):\r\n",
        "  \r\n",
        "  if (n == 0):\r\n",
        "    return 0;\r\n",
        "  q=-999999999\r\n",
        "  for i in range(1,n+1):  #共n項\r\n",
        "    q=max(q,p[i]+p[n-i])  \r\n",
        "  return q;\r\n",
        "\r\n",
        "n=int(input(\"輸入長度為:\"))  #輸入想要的鐵條長度\r\n",
        "CutRod(p,n)\r\n",
        "\r\n"
      ],
      "execution_count": 37,
      "outputs": [
        {
          "output_type": "stream",
          "text": [
            "輸入長度為:5\n"
          ],
          "name": "stdout"
        },
        {
          "output_type": "execute_result",
          "data": {
            "text/plain": [
              "13"
            ]
          },
          "metadata": {
            "tags": []
          },
          "execution_count": 37
        }
      ]
    }
  ]
}