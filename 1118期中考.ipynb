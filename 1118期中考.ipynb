{
  "nbformat": 4,
  "nbformat_minor": 0,
  "metadata": {
    "colab": {
      "name": "1118期中考.ipynb",
      "provenance": [],
      "collapsed_sections": [],
      "authorship_tag": "ABX9TyP3M+NrggRaGmTwFMv611mK",
      "include_colab_link": true
    },
    "kernelspec": {
      "name": "python3",
      "display_name": "Python 3"
    }
  },
  "cells": [
    {
      "cell_type": "markdown",
      "metadata": {
        "id": "view-in-github",
        "colab_type": "text"
      },
      "source": [
        "<a href=\"https://colab.research.google.com/github/nn8901721tw/Algorithnm/blob/master/1118%E6%9C%9F%E4%B8%AD%E8%80%83.ipynb\" target=\"_parent\"><img src=\"https://colab.research.google.com/assets/colab-badge.svg\" alt=\"Open In Colab\"/></a>"
      ]
    },
    {
      "cell_type": "code",
      "metadata": {
        "colab": {
          "base_uri": "https://localhost:8080/"
        },
        "id": "wPKnVCNc6Pny",
        "outputId": "e867edba-e417-4ec7-93dc-fa74f940f971"
      },
      "source": [
        "def Selction_Sort(datas):\n",
        "    for i in range(len(datas)-1):\n",
        "        max = i # 第一次選從第一個數開始,第二次從第二個數開始\n",
        "        for j in range(i+1, len(datas)):    # 用記錄的max數與其他的比較\n",
        "            if datas[j] > datas[max]:     #第一個索引值跟接續它後面的比較，若後面的較大，索引值互換\n",
        "                max = j    \n",
        "\n",
        "        datas[i], datas[max] = datas[max], datas[i]   #大的值跟小的值互換(利用data[]) 接著繼續上層的迴圈\n",
        "\n",
        "        print(datas)\n",
        "        print('---'*10)\n",
        "    return datas\n",
        "\n",
        "\n",
        "if __name__ == '__main__':\n",
        "    import random\n",
        "    print(\"Selection sort\")\n",
        "    a=[]             #建立空串列\n",
        "    \n",
        "    for i in range(8):\n",
        "      b=random.randint(0,99)  #將隨機的數字加到串列後面，共8個\n",
        "      a.append(b)\n",
        "    print(a)\n",
        "    a = Selction_Sort(a)\n",
        "    print(a)\n",
        "\n",
        "\n",
        "\n",
        "print(\"\")\n",
        "print(\"\")\n",
        "print(\"Insertion sort\")\n",
        "\n",
        "\n",
        "\n",
        "def Insertion_Sort(datas):   # 建立插入排序法的Function\n",
        "    for i in range(1, len(datas)):  # \n",
        "        for j in range(i):\n",
        "            current = datas[i]  #將data[i]暫定為current\n",
        "            if current < datas[j]:\n",
        "                for k in range(i,j):\n",
        "                  print(datas)\n",
        "    return datas     #傳回datas\n",
        "\n",
        "\n",
        "def insertionSort(arr):\n",
        "    for i in range(len(arr)):\n",
        "        preIndex = i-1\n",
        "        current = arr[i]\n",
        "        while preIndex >= 0 and arr[preIndex] > current:   # 將暫存值逐一和前面的值做比較，如果小於前面的值則將前面的值往後放\n",
        "            arr[preIndex+1] = arr[preIndex]\n",
        "            preIndex-=1\n",
        "        arr[preIndex+1] = current # 比較完後，將暫存值插入到適合的位置\n",
        "        print(arr)\n",
        "    return arr     #傳回arr\n",
        "\n",
        "if __name__ == '__main__':\n",
        "    import random\n",
        "    a=[]    #建立空串列\n",
        "    for i in range(8):\n",
        "      b=random.randint(0,99)  #將隨機的數字加到串列後面，共8個\n",
        "      a.append(b)\n",
        "    \n",
        "    b = a.copy()\n",
        "\n",
        "    arr = insertionSort(a)\n",
        "    print('---'*10)\n",
        "    Insertion_Sort(b)\n",
        "\n",
        "\n",
        "\n",
        "\n",
        "\n",
        "\n",
        "\n",
        "\n",
        "\n"
      ],
      "execution_count": 20,
      "outputs": [
        {
          "output_type": "stream",
          "text": [
            "Selection sort\n",
            "[61, 26, 68, 13, 40, 6, 90, 47]\n",
            "[90, 26, 68, 13, 40, 6, 61, 47]\n",
            "------------------------------\n",
            "[90, 68, 26, 13, 40, 6, 61, 47]\n",
            "------------------------------\n",
            "[90, 68, 61, 13, 40, 6, 26, 47]\n",
            "------------------------------\n",
            "[90, 68, 61, 47, 40, 6, 26, 13]\n",
            "------------------------------\n",
            "[90, 68, 61, 47, 40, 6, 26, 13]\n",
            "------------------------------\n",
            "[90, 68, 61, 47, 40, 26, 6, 13]\n",
            "------------------------------\n",
            "[90, 68, 61, 47, 40, 26, 13, 6]\n",
            "------------------------------\n",
            "[90, 68, 61, 47, 40, 26, 13, 6]\n",
            "\n",
            "\n",
            "Insertion sort\n",
            "[36, 80, 58, 16, 56, 21, 90, 24]\n",
            "[36, 80, 58, 16, 56, 21, 90, 24]\n",
            "[36, 58, 80, 16, 56, 21, 90, 24]\n",
            "[16, 36, 58, 80, 56, 21, 90, 24]\n",
            "[16, 36, 56, 58, 80, 21, 90, 24]\n",
            "[16, 21, 36, 56, 58, 80, 90, 24]\n",
            "[16, 21, 36, 56, 58, 80, 90, 24]\n",
            "[16, 21, 24, 36, 56, 58, 80, 90]\n",
            "------------------------------\n"
          ],
          "name": "stdout"
        }
      ]
    }
  ]
}