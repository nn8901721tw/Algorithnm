{
  "nbformat": 4,
  "nbformat_minor": 0,
  "metadata": {
    "colab": {
      "name": "「insertionsort0930.ipynb」的副本",
      "provenance": [],
      "collapsed_sections": [],
      "include_colab_link": true
    },
    "kernelspec": {
      "name": "python3",
      "display_name": "Python 3"
    }
  },
  "cells": [
    {
      "cell_type": "markdown",
      "metadata": {
        "id": "view-in-github",
        "colab_type": "text"
      },
      "source": [
        "<a href=\"https://colab.research.google.com/github/nn8901721tw/Algorithnm/blob/master/%E3%80%8Cinsertionsort0930_ipynb%E3%80%8D%E7%9A%84%E5%89%AF%E6%9C%AC.ipynb\" target=\"_parent\"><img src=\"https://colab.research.google.com/assets/colab-badge.svg\" alt=\"Open In Colab\"/></a>"
      ]
    },
    {
      "cell_type": "markdown",
      "metadata": {
        "id": "j95w6SLwOC0z"
      },
      "source": [
        "Insertion sort (插入排序)"
      ]
    },
    {
      "cell_type": "code",
      "metadata": {
        "id": "BxBaYEwzNj_v",
        "outputId": "2ec26395-18e3-4a0e-cf7a-dd2c46509d9a",
        "colab": {
          "base_uri": "https://localhost:8080/",
          "height": 306
        }
      },
      "source": [
        "\n",
        "def Insertion_Sort(datas):\n",
        "    for i in range(1, len(datas)):  # n\n",
        "        for j in range(i):     #n^2\n",
        "            current = datas[i]  #n\n",
        "            if current < datas[j]:  #n\n",
        "                for k in range(i,j):  \n",
        "                  print(datas)\n",
        "    return datas    #1\n",
        "            #Ans:O(n^2)\n",
        "\n",
        "def insertionSort(arr):\n",
        "    for i in range(len(arr)):\n",
        "        preIndex = i-1\n",
        "        current = arr[i]\n",
        "        while preIndex >= 0 and arr[preIndex] > current:\n",
        "            arr[preIndex+1] = arr[preIndex]\n",
        "            preIndex-=1\n",
        "        arr[preIndex+1] = current\n",
        "        print(arr)\n",
        "    return arr\n",
        "            \n",
        "\n",
        "if __name__ == '__main__':\n",
        "    import random\n",
        "    a = list(range(16))\n",
        "    random.shuffle(a)\n",
        "    b = a.copy()\n",
        "\n",
        "    arr = insertionSort(a)\n",
        "    print('---'*10)\n",
        "    Insertion_Sort(b)"
      ],
      "execution_count": null,
      "outputs": [
        {
          "output_type": "stream",
          "text": [
            "[10, 0, 9, 6, 12, 1, 8, 14, 5, 7, 13, 11, 2, 4, 3, 15]\n",
            "[0, 10, 9, 6, 12, 1, 8, 14, 5, 7, 13, 11, 2, 4, 3, 15]\n",
            "[0, 9, 10, 6, 12, 1, 8, 14, 5, 7, 13, 11, 2, 4, 3, 15]\n",
            "[0, 6, 9, 10, 12, 1, 8, 14, 5, 7, 13, 11, 2, 4, 3, 15]\n",
            "[0, 6, 9, 10, 12, 1, 8, 14, 5, 7, 13, 11, 2, 4, 3, 15]\n",
            "[0, 1, 6, 9, 10, 12, 8, 14, 5, 7, 13, 11, 2, 4, 3, 15]\n",
            "[0, 1, 6, 8, 9, 10, 12, 14, 5, 7, 13, 11, 2, 4, 3, 15]\n",
            "[0, 1, 6, 8, 9, 10, 12, 14, 5, 7, 13, 11, 2, 4, 3, 15]\n",
            "[0, 1, 5, 6, 8, 9, 10, 12, 14, 7, 13, 11, 2, 4, 3, 15]\n",
            "[0, 1, 5, 6, 7, 8, 9, 10, 12, 14, 13, 11, 2, 4, 3, 15]\n",
            "[0, 1, 5, 6, 7, 8, 9, 10, 12, 13, 14, 11, 2, 4, 3, 15]\n",
            "[0, 1, 5, 6, 7, 8, 9, 10, 11, 12, 13, 14, 2, 4, 3, 15]\n",
            "[0, 1, 2, 5, 6, 7, 8, 9, 10, 11, 12, 13, 14, 4, 3, 15]\n",
            "[0, 1, 2, 4, 5, 6, 7, 8, 9, 10, 11, 12, 13, 14, 3, 15]\n",
            "[0, 1, 2, 3, 4, 5, 6, 7, 8, 9, 10, 11, 12, 13, 14, 15]\n",
            "[0, 1, 2, 3, 4, 5, 6, 7, 8, 9, 10, 11, 12, 13, 14, 15]\n",
            "------------------------------\n"
          ],
          "name": "stdout"
        }
      ]
    }
  ]
}