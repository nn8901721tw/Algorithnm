{
  "nbformat": 4,
  "nbformat_minor": 0,
  "metadata": {
    "colab": {
      "name": "hanoi.ipynb",
      "provenance": [],
      "collapsed_sections": [],
      "authorship_tag": "ABX9TyMV0Z5R/aFpqdRgoNpZPk+3",
      "include_colab_link": true
    },
    "kernelspec": {
      "name": "python3",
      "display_name": "Python 3"
    }
  },
  "cells": [
    {
      "cell_type": "markdown",
      "metadata": {
        "id": "view-in-github",
        "colab_type": "text"
      },
      "source": [
        "<a href=\"https://colab.research.google.com/github/nn8901721tw/Algorithnm/blob/master/hanoi.ipynb\" target=\"_parent\"><img src=\"https://colab.research.google.com/assets/colab-badge.svg\" alt=\"Open In Colab\"/></a>"
      ]
    },
    {
      "cell_type": "code",
      "metadata": {
        "id": "1tfUTd02HtB-",
        "outputId": "305245d5-db6d-4024-d1a8-9913ae10b5de",
        "colab": {
          "base_uri": "https://localhost:8080/"
        }
      },
      "source": [
        "def hanoi(n, A, B, C):\n",
        "    if n == 1:\n",
        "        return [(A, C)]\n",
        "    else:\n",
        "        return hanoi(n-1, A, C, B) + hanoi(1, A, B, C) + hanoi(n-1, B, A, C)\n",
        "\n",
        "n = input(\"請輸入整數：\")\n",
        "i=0\n",
        "for move in hanoi(int(n), 'A', 'B', 'C'):\n",
        "  i+=1\n",
        "  \n",
        "  \n",
        "  print(\"盤由 %c 移至 %c\" % move)\n",
        "  print(\"%d次\" % i)\n",
        "  "
      ],
      "execution_count": 28,
      "outputs": [
        {
          "output_type": "stream",
          "text": [
            "請輸入整數：5\n",
            "盤由 A 移至 C\n",
            "1次\n",
            "盤由 A 移至 B\n",
            "2次\n",
            "盤由 C 移至 B\n",
            "3次\n",
            "盤由 A 移至 C\n",
            "4次\n",
            "盤由 B 移至 A\n",
            "5次\n",
            "盤由 B 移至 C\n",
            "6次\n",
            "盤由 A 移至 C\n",
            "7次\n",
            "盤由 A 移至 B\n",
            "8次\n",
            "盤由 C 移至 B\n",
            "9次\n",
            "盤由 C 移至 A\n",
            "10次\n",
            "盤由 B 移至 A\n",
            "11次\n",
            "盤由 C 移至 B\n",
            "12次\n",
            "盤由 A 移至 C\n",
            "13次\n",
            "盤由 A 移至 B\n",
            "14次\n",
            "盤由 C 移至 B\n",
            "15次\n",
            "盤由 A 移至 C\n",
            "16次\n",
            "盤由 B 移至 A\n",
            "17次\n",
            "盤由 B 移至 C\n",
            "18次\n",
            "盤由 A 移至 C\n",
            "19次\n",
            "盤由 B 移至 A\n",
            "20次\n",
            "盤由 C 移至 B\n",
            "21次\n",
            "盤由 C 移至 A\n",
            "22次\n",
            "盤由 B 移至 A\n",
            "23次\n",
            "盤由 B 移至 C\n",
            "24次\n",
            "盤由 A 移至 C\n",
            "25次\n",
            "盤由 A 移至 B\n",
            "26次\n",
            "盤由 C 移至 B\n",
            "27次\n",
            "盤由 A 移至 C\n",
            "28次\n",
            "盤由 B 移至 A\n",
            "29次\n",
            "盤由 B 移至 C\n",
            "30次\n",
            "盤由 A 移至 C\n",
            "31次\n"
          ],
          "name": "stdout"
        }
      ]
    }
  ]
}