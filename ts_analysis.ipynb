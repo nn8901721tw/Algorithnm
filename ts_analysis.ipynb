{
  "nbformat": 4,
  "nbformat_minor": 0,
  "metadata": {
    "colab": {
      "name": "ts_analysis.ipynb",
      "provenance": [],
      "authorship_tag": "ABX9TyOnnYDwUQOp4Fckq2od65Th",
      "include_colab_link": true
    },
    "kernelspec": {
      "name": "python3",
      "display_name": "Python 3"
    }
  },
  "cells": [
    {
      "cell_type": "markdown",
      "metadata": {
        "id": "view-in-github",
        "colab_type": "text"
      },
      "source": [
        "<a href=\"https://colab.research.google.com/github/nn8901721tw/Algorithnm/blob/master/ts_analysis.ipynb\" target=\"_parent\"><img src=\"https://colab.research.google.com/assets/colab-badge.svg\" alt=\"Open In Colab\"/></a>"
      ]
    },
    {
      "cell_type": "code",
      "metadata": {
        "id": "4epkqemp39gI",
        "outputId": "17c5012a-8e92-46f8-95ab-d7d2b17e1e79",
        "colab": {
          "base_uri": "https://localhost:8080/"
        }
      },
      "source": [
        "# 時間轉空間\n",
        "year=int(input(\"請輸入年分\"))  \n",
        "if (year%4)==0 and (year%100)!=0:\n",
        "    print('%d is a leap year.'%(year))\n",
        "elif (year%400)==0:\n",
        "    print('%d is a leap year.'%(year))\n",
        "else:\n",
        "    print('%d is not a leap year.'%(year))\n",
        "\n",
        "\n",
        "\n",
        "\n",
        "\n",
        "\n",
        "\n"
      ],
      "execution_count": 31,
      "outputs": [
        {
          "output_type": "stream",
          "text": [
            "請輸入年分2001\n",
            "2001 is not a leap year.\n"
          ],
          "name": "stdout"
        }
      ]
    },
    {
      "cell_type": "code",
      "metadata": {
        "id": "6nOtxQ-ZCAix"
      },
      "source": [
        "#  空間轉時間"
      ],
      "execution_count": null,
      "outputs": []
    },
    {
      "cell_type": "code",
      "metadata": {
        "id": "O7gT2y6J-6Tk",
        "outputId": "44441be3-a674-4232-cdcd-571fbc8746eb",
        "colab": {
          "base_uri": "https://localhost:8080/"
        }
      },
      "source": [
        "a = list()\n",
        "for i in range(2020,2040):\n",
        "\n",
        "    \n",
        "  if (i%4)==0 and (i%100)!=0:\n",
        "    #print('%d is a leap year.'%(i))\n",
        "    a.append(1)\n",
        "    \n",
        "  elif (i%400)==0:\n",
        "    #print('%d is a leap year.'%(i))\n",
        "    a.append(1)\n",
        "    \n",
        "  else:\n",
        "    #print('%d is not a leap year.'%(i))\n",
        "    a.append(0)\n",
        "    \n",
        "print(a)\n",
        "\n",
        "\n",
        "  \n"
      ],
      "execution_count": 37,
      "outputs": [
        {
          "output_type": "stream",
          "text": [
            "[1, 0, 0, 0, 1, 0, 0, 0, 1, 0, 0, 0, 1, 0, 0, 0, 1, 0, 0, 0]\n"
          ],
          "name": "stdout"
        }
      ]
    }
  ]
}