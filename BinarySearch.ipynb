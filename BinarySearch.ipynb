{
  "nbformat": 4,
  "nbformat_minor": 0,
  "metadata": {
    "colab": {
      "name": "BinarySearch.ipynb",
      "provenance": [],
      "authorship_tag": "ABX9TyN+YDjJnozY+iVkeTzpm6ot",
      "include_colab_link": true
    },
    "kernelspec": {
      "name": "python3",
      "display_name": "Python 3"
    }
  },
  "cells": [
    {
      "cell_type": "markdown",
      "metadata": {
        "id": "view-in-github",
        "colab_type": "text"
      },
      "source": [
        "<a href=\"https://colab.research.google.com/github/nn8901721tw/Algorithnm/blob/master/BinarySearch.ipynb\" target=\"_parent\"><img src=\"https://colab.research.google.com/assets/colab-badge.svg\" alt=\"Open In Colab\"/></a>"
      ]
    },
    {
      "cell_type": "code",
      "metadata": {
        "id": "B4Dg9WsQ8lg-",
        "outputId": "cfadf100-24a4-45c4-8c49-c04a0c4c7e89",
        "colab": {
          "base_uri": "https://localhost:8080/",
          "height": 35
        }
      },
      "source": [
        "def binarySearch(arr, l ,r ,x):\n",
        "  if r >= l:\n",
        "    mid =  l + (r - 1) //2\n",
        "    if arr[mid] == x:\n",
        "      return mid\n",
        "    elif arr[mid] > x :\n",
        "      return binarySearch(arr , l , mid-1 , x) \n",
        "    else:\n",
        "      return binarySearch(arr , mid+1 , r , x)\n",
        "  else:\n",
        "    return -1\n",
        "arr = [5,8,9,15,30]\n",
        "x=9\n",
        "#Function call\n",
        "result = binarySearch(arr , 0 , len(arr)-1 , x)\n",
        "if result != -1:\n",
        "  print(\"元素在索引 %d\" % result)\n",
        "else:\n",
        "  print(\"在陣列中找不到此值\")          "
      ],
      "execution_count": 3,
      "outputs": [
        {
          "output_type": "stream",
          "text": [
            "元素在索引 2\n"
          ],
          "name": "stdout"
        }
      ]
    },
    {
      "cell_type": "code",
      "metadata": {
        "id": "3R4R01ok9ydH",
        "outputId": "0ef697de-2372-4393-b6d7-7a2e0f1ce5b6",
        "colab": {
          "base_uri": "https://localhost:8080/",
          "height": 181
        }
      },
      "source": [
        "def binarySearch(arr, l ,r ,x):\n",
        "  if r >= l:\n",
        "    mid =  l + (r - l) //2\n",
        "    if arr[mid] == x:\n",
        "      return mid\n",
        "    elif arr[mid] > x :\n",
        "      return binarySearch(arr , l , mid-1 , x) \n",
        "    else:\n",
        "      return binarySearch(arr , mid+1 , r , x)\n",
        "  else:\n",
        "    return -1\n",
        "arr = []\n",
        "\n",
        "for i in range(5):\n",
        "  arr.append(int(input(\"請輸入第%s個值\"% str(i+1)))  )\n",
        "\n",
        "\n",
        "print(arr)  \n",
        "def Bubble_Sort(datas):\n",
        "    for i in range(1, len(datas)): # \n",
        "        for j in range(len(datas)-i):   # \n",
        "            if datas[j] > datas[j+1]:   # \n",
        "                datas[j], datas[j+1] = datas[j+1], datas[j]\n",
        "    return datas\n",
        "\n",
        "Bubble_Sort(arr)\n",
        "print(arr)   # 排序後的結果\n",
        "\n",
        "b = int(input(\"請輸入要搜尋的值\"))  #要搜尋的Keyvalue\n",
        "#Function call\n",
        "result = binarySearch(arr , 0 , len(arr)-1 , b)\n",
        "if result != -1:              #二元搜尋的結果+索引位置\n",
        "  print(\"元素在索引 %d\" % result)\n",
        "else:\n",
        "  print(\"在陣列中找不到此值\")  "
      ],
      "execution_count": 41,
      "outputs": [
        {
          "output_type": "stream",
          "text": [
            "請輸入第1個值5\n",
            "請輸入第2個值4\n",
            "請輸入第3個值6\n",
            "請輸入第4個值1\n",
            "請輸入第5個值3\n",
            "[5, 4, 6, 1, 3]\n",
            "[1, 3, 4, 5, 6]\n",
            "請輸入要搜尋的值1\n",
            "元素在索引 0\n"
          ],
          "name": "stdout"
        }
      ]
    }
  ]
}