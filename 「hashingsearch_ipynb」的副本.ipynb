{
  "nbformat": 4,
  "nbformat_minor": 0,
  "metadata": {
    "colab": {
      "name": "「hashingsearch_ipynb」的副本.ipynb",
      "provenance": [],
      "collapsed_sections": [],
      "include_colab_link": true
    },
    "kernelspec": {
      "name": "python3",
      "display_name": "Python 3"
    }
  },
  "cells": [
    {
      "cell_type": "markdown",
      "metadata": {
        "id": "view-in-github",
        "colab_type": "text"
      },
      "source": [
        "<a href=\"https://colab.research.google.com/github/nn8901721tw/Algorithnm/blob/master/%E3%80%8Chashingsearch_ipynb%E3%80%8D%E7%9A%84%E5%89%AF%E6%9C%AC.ipynb\" target=\"_parent\"><img src=\"https://colab.research.google.com/assets/colab-badge.svg\" alt=\"Open In Colab\"/></a>"
      ]
    },
    {
      "cell_type": "code",
      "metadata": {
        "id": "eckwFY7b3FkK",
        "outputId": "433b5ab1-4399-49df-ab5f-59ae1b82a2ca",
        "colab": {
          "base_uri": "https://localhost:8080/",
          "height": 240
        }
      },
      "source": [
        "import random \n",
        "\n",
        "INDEXBOX = 10 #雜湊表最大元素\n",
        "MAXNUM = 7 #最大資料個數\n",
        "\n",
        "\n",
        "def print_data(data,max_number): #列印陣列副程式\n",
        "  print('\\t',end='')\n",
        "  for i in range(max_number):\n",
        "    print('[%2d]'%data[i],end='')\n",
        "  print()\n",
        "\n",
        "def create_table(num,index): #建立雜湊表副程式\n",
        "  tmp = num%INDEXBOX #雜湊函數=資料%INDEXBOX\n",
        "  while True:\n",
        "    if index[tmp]==-1: #如果資料對應的位置是空的\n",
        "      index[tmp]=num #則直接存入資料\n",
        "      break\n",
        "    else:\n",
        "      tmp=(tmp+1)%INDEXBOX #否則往後找位置存放\n",
        "\n",
        "#主程式\n",
        "\n",
        "index =[None]*INDEXBOX\n",
        "data =[None]*MAXNUM\n",
        "\n",
        "print('[線性搜尋法]')\n",
        "print('原始陣列值:')\n",
        "for i in range(MAXNUM): #起始資料值\n",
        "  data[i]=random.randint(1,20)\n",
        "for i in range(INDEXBOX): #清除雜湊表\n",
        "  index[i]=-1\n",
        "print_data(data,MAXNUM) #列印起始資料\n",
        "\n",
        "print('雜湊表內容:')\n",
        "for i in range(MAXNUM): #建立雜湊表\n",
        "  create_table(data[i],index)\n",
        "  print('%2d=>'%data[i],end='') #列印單一元素的雜湊表位置\n",
        "  print_data(index,INDEXBOX)\n",
        "\n",
        "print('完成雜湊表:')\n",
        "print_data(index,INDEXBOX) #列印最後完成結果\n"
      ],
      "execution_count": null,
      "outputs": [
        {
          "output_type": "stream",
          "text": [
            "[線性搜尋法]\n",
            "原始陣列值:\n",
            "\t[ 3][15][ 5][ 4][17][19][ 2]\n",
            "雜湊表內容:\n",
            " 3=>\t[-1][-1][-1][ 3][-1][-1][-1][-1][-1][-1]\n",
            "15=>\t[-1][-1][-1][ 3][-1][15][-1][-1][-1][-1]\n",
            " 5=>\t[-1][-1][-1][ 3][-1][15][ 5][-1][-1][-1]\n",
            " 4=>\t[-1][-1][-1][ 3][ 4][15][ 5][-1][-1][-1]\n",
            "17=>\t[-1][-1][-1][ 3][ 4][15][ 5][17][-1][-1]\n",
            "19=>\t[-1][-1][-1][ 3][ 4][15][ 5][17][-1][19]\n",
            " 2=>\t[-1][-1][ 2][ 3][ 4][15][ 5][17][-1][19]\n",
            "完成雜湊表:\n",
            "\t[-1][-1][ 2][ 3][ 4][15][ 5][17][-1][19]\n"
          ],
          "name": "stdout"
        }
      ]
    },
    {
      "cell_type": "code",
      "metadata": {
        "id": "Am3hxMnT8xZR",
        "outputId": "88177b09-a2b5-4632-dd54-34eff76ea2f7",
        "colab": {
          "base_uri": "https://localhost:8080/",
          "height": 240
        }
      },
      "source": [
        "import random \n",
        "\n",
        "INDEXBOX = 10 #雜湊表最大元素\n",
        "MAXNUM = 7 #最大資料個數\n",
        "\n",
        "\n",
        "def print_data(data,max_number): #列印陣列副程式\n",
        "  print('\\t',end='')\n",
        "  for i in range(max_number):\n",
        "    print('[%2d]'%data[i],end='')\n",
        "  print()\n",
        "\n",
        "def create_table(num,index): #建立雜湊表副程式\n",
        "  tmp = num%INDEXBOX #雜湊函數=資料%INDEXBOX\n",
        "  while True:\n",
        "    if index[tmp]==-1: #如果資料對應的位置是空的\n",
        "      index[tmp]=num #則直接存入資料\n",
        "      break\n",
        "    else:\n",
        "      tmp=(tmp+1^2)%INDEXBOX\n",
        "      \n",
        "     #否則往後找位置存放\n",
        "\n",
        "#主程式\n",
        "\n",
        "index =[None]*INDEXBOX\n",
        "data =[None]*MAXNUM\n",
        "\n",
        "print('[平方探測法]')\n",
        "print('原始陣列值:')\n",
        "for i in range(MAXNUM): #起始資料值\n",
        "  data[i]=random.randint(1,20)\n",
        "for i in range(INDEXBOX): #清除雜湊表\n",
        "  index[i]=-1\n",
        "print_data(data,MAXNUM) #列印起始資料\n",
        "\n",
        "print('雜湊表內容:')\n",
        "for i in range(MAXNUM): #建立雜湊表\n",
        "  create_table(data[i],index)\n",
        "  print('%2d=>'%data[i],end='') #列印單一元素的雜湊表位置\n",
        "  print_data(index,INDEXBOX)\n",
        "\n",
        "print('完成雜湊表')\n",
        "print_data(index,INDEXBOX) #列印最後完成結果\n"
      ],
      "execution_count": null,
      "outputs": [
        {
          "output_type": "stream",
          "text": [
            "[平方探測法]\n",
            "原始陣列值:\n",
            "\t[20][10][16][ 8][13][ 8][ 5]\n",
            "雜湊表內容:\n",
            "20=>\t[20][-1][-1][-1][-1][-1][-1][-1][-1][-1]\n",
            "10=>\t[20][-1][-1][10][-1][-1][-1][-1][-1][-1]\n",
            "16=>\t[20][-1][-1][10][-1][-1][16][-1][-1][-1]\n",
            " 8=>\t[20][-1][-1][10][-1][-1][16][-1][ 8][-1]\n",
            "13=>\t[20][-1][-1][10][-1][13][16][-1][ 8][-1]\n",
            " 8=>\t[20][ 8][-1][10][-1][13][16][-1][ 8][-1]\n",
            " 5=>\t[20][ 8][-1][10][ 5][13][16][-1][ 8][-1]\n",
            "完成雜湊表\n",
            "\t[20][ 8][-1][10][ 5][13][16][-1][ 8][-1]\n"
          ],
          "name": "stdout"
        }
      ]
    },
    {
      "cell_type": "code",
      "metadata": {
        "id": "ODqx5Ku5I3xc",
        "outputId": "dad36a05-ae08-4199-a96e-7125679719fb",
        "colab": {
          "base_uri": "https://localhost:8080/",
          "height": 240
        }
      },
      "source": [
        "import random \n",
        "\n",
        "INDEXBOX = 10 #雜湊表最大元素\n",
        "MAXNUM = 7 #最大資料個數\n",
        "\n",
        "\n",
        "def print_data(data,max_number): #列印陣列副程式\n",
        "  print('\\t',end='')\n",
        "  for i in range(max_number):\n",
        "    print('[%2d]'%data[i],end='')\n",
        "  print()\n",
        "\n",
        "def create_table(num,index): #建立雜湊表副程式\n",
        "  tmp = num%INDEXBOX #雜湊函數=資料MOD13\n",
        "  while True:\n",
        "    if index[tmp]==-1: #如果資料對應的位置是空的\n",
        "      index[tmp]=num #則直接存入資料\n",
        "      break\n",
        "    else:\n",
        "      tmp=(tmp+1^2)%INDEXBOX \n",
        "  else:\n",
        "    tmp=(tmp+1^3)%INDEXBOX  \n",
        "  \n",
        "      \n",
        "     #否則往後找位置存放\n",
        "\n",
        "#主程式\n",
        "\n",
        "index =[None]*INDEXBOX\n",
        "data =[None]*MAXNUM\n",
        "\n",
        "print('[再雜湊法]')\n",
        "print('原始陣列值:')\n",
        "for i in range(MAXNUM): #起始資料值\n",
        "  data[i]=random.randint(1,20)\n",
        "for i in range(INDEXBOX): #清除雜湊表\n",
        "  index[i]=-1\n",
        "print_data(data,MAXNUM) #列印起始資料\n",
        "\n",
        "print('雜湊表內容:')\n",
        "for i in range(MAXNUM): #建立雜湊表\n",
        "  create_table(data[i],index)\n",
        "  print('%2d=>'%data[i],end='') #列印單一元素的雜湊表位置\n",
        "  print_data(index,INDEXBOX)\n",
        "\n",
        "print('完成雜湊表')\n",
        "print_data(index,INDEXBOX) #列印最後完成結果\n"
      ],
      "execution_count": null,
      "outputs": [
        {
          "output_type": "stream",
          "text": [
            "[再雜湊法]\n",
            "原始陣列值:\n",
            "\t[ 6][16][ 6][18][10][17][12]\n",
            "雜湊表內容:\n",
            " 6=>\t[-1][-1][-1][-1][-1][-1][ 6][-1][-1][-1]\n",
            "16=>\t[-1][-1][-1][-1][-1][16][ 6][-1][-1][-1]\n",
            " 6=>\t[-1][-1][-1][-1][ 6][16][ 6][-1][-1][-1]\n",
            "18=>\t[-1][-1][-1][-1][ 6][16][ 6][-1][18][-1]\n",
            "10=>\t[10][-1][-1][-1][ 6][16][ 6][-1][18][-1]\n",
            "17=>\t[10][-1][-1][-1][ 6][16][ 6][17][18][-1]\n",
            "12=>\t[10][-1][12][-1][ 6][16][ 6][17][18][-1]\n",
            "完成雜湊表\n",
            "\t[10][-1][12][-1][ 6][16][ 6][17][18][-1]\n"
          ],
          "name": "stdout"
        }
      ]
    }
  ]
}